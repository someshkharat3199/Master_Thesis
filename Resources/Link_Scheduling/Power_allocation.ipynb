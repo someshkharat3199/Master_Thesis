{
  "cells": [
    {
      "cell_type": "code",
      "execution_count": null,
      "metadata": {
        "id": "bsb037sI3Taw"
      },
      "outputs": [],
      "source": [
        "#importing necessary libraries\n",
        "import pandas as pd\n",
        "import numpy as np\n",
        "import datetime as dt\n",
        "import seaborn as sns\n",
        "import matplotlib as mpl\n",
        "import matplotlib.pyplot as plt\n",
        "from sklearn.model_selection import train_test_split\n",
        "from keras.preprocessing.sequence import TimeseriesGenerator\n",
        "from sklearn.preprocessing import MinMaxScaler, StandardScaler\n",
        "import tensorflow as tf"
      ]
    },
    {
      "cell_type": "code",
      "execution_count": null,
      "metadata": {
        "id": "etWbBCe_xD-R"
      },
      "outputs": [],
      "source": [
        "def load_data(data_path):\n",
        "  dataset = pd.read_csv(data_path, header = 0, sep = ' ',\n",
        "            names = ['x','y','dev1/dev2','orient','tx_pwr','col','rssi_1','rssi_2','rssi_3','rssi_4','rssi_5'])\n",
        "  dataset.set_index(['x','y'])\n",
        "  return dataset"
      ]
    },
    {
      "cell_type": "code",
      "execution_count": null,
      "metadata": {
        "id": "K3gF4yIBxHGN"
      },
      "outputs": [],
      "source": [
        "data_set = load_data(\"/content/omni_variable_txpower.txt\")"
      ]
    },
    {
      "cell_type": "code",
      "execution_count": null,
      "metadata": {
        "id": "Pbzf3zW3xK60"
      },
      "outputs": [],
      "source": [
        "grouped = data_set.groupby(['x','y'])"
      ]
    },
    {
      "cell_type": "code",
      "execution_count": null,
      "metadata": {
        "id": "BN1YBEh0xPLE"
      },
      "outputs": [],
      "source": [
        "locations = set()\n",
        "for i in zip(data_set['x'],data_set['y']):\n",
        "  locations.add(i)"
      ]
    },
    {
      "cell_type": "code",
      "execution_count": null,
      "metadata": {
        "id": "d9C9BAEBxTf4"
      },
      "outputs": [],
      "source": [
        "data_sets = []\n",
        "for k in list(locations)[:2]:\n",
        "  data_sets.append(grouped.get_group(k))"
      ]
    },
    {
      "cell_type": "code",
      "execution_count": null,
      "metadata": {
        "id": "zola1jXvxXtE"
      },
      "outputs": [],
      "source": [
        "grouped_data = data_sets[0].groupby('tx_pwr')\n",
        "tx_pwr = range(10,21)\n",
        "data_sets_tx = []\n",
        "for k in tx_pwr:\n",
        "  data_sets_tx.append(grouped_data.get_group(k))"
      ]
    },
    {
      "cell_type": "code",
      "execution_count": null,
      "metadata": {
        "id": "IXWE7qGYxbYF"
      },
      "outputs": [],
      "source": [
        "df_input = [data_sets_tx[i][['tx_pwr','rssi_1']] for i in range(len(data_sets_tx))]"
      ]
    },
    {
      "cell_type": "code",
      "execution_count": null,
      "metadata": {
        "id": "Hu0JWfFGxhZI"
      },
      "outputs": [],
      "source": [
        "#scaling the dataset\n",
        "def scale_dataset(df_ip):\n",
        "  scaler = MinMaxScaler()\n",
        "  return [scaler, scaler.fit_transform(df_ip)]\n",
        "scaler_set = []\n",
        "data_scaled = []\n",
        "for df in df_input:\n",
        "  scaler, data = scale_dataset(df)\n",
        "  scaler_set.append(scaler)\n",
        "  data_scaled.append(data)"
      ]
    },
    {
      "cell_type": "code",
      "execution_count": null,
      "metadata": {
        "id": "NdkUdBsGxlK8"
      },
      "outputs": [],
      "source": [
        "def get_features(scaled_data):\n",
        "  features = scaled_data[:,1]\n",
        "  target = scaled_data[:,1]\n",
        "  return [features, target]"
      ]
    },
    {
      "cell_type": "code",
      "execution_count": null,
      "metadata": {
        "id": "NLLShGl0xntq"
      },
      "outputs": [],
      "source": [
        "feature_target_set = []\n",
        "for data in data_scaled:\n",
        "  feature_target_set.append(get_features(data))"
      ]
    },
    {
      "cell_type": "code",
      "execution_count": null,
      "metadata": {
        "id": "vJSCgNwGxxN3"
      },
      "outputs": [],
      "source": [
        "def split_dataset(features, target):\n",
        "  x_train, x_test, y_train, y_test = train_test_split(features, target, test_size = 0.2, random_state=123, shuffle=False)\n",
        "  x_train, x_val, y_train, y_val = train_test_split(x_train, y_train, test_size = 0.2, random_state=123, shuffle=False)\n",
        "  return [x_train, y_train, x_test, y_test, x_val, y_val]"
      ]
    },
    {
      "cell_type": "code",
      "execution_count": null,
      "metadata": {
        "id": "HhcB5fNQrFU7"
      },
      "outputs": [],
      "source": [
        "window_length = 5\n",
        "batch_size = 5\n",
        "num_features = 1"
      ]
    },
    {
      "cell_type": "code",
      "execution_count": null,
      "metadata": {
        "id": "Qn-hKs1Wx0i9"
      },
      "outputs": [],
      "source": [
        "train_set = []\n",
        "test_set = []\n",
        "validation_set = []\n",
        "for data in feature_target_set:\n",
        "  result = split_dataset(data[0], data[1])\n",
        "  train_set.append([result[0],result[1]])\n",
        "  test_set.append([result[2],result[3]])\n",
        "  validation_set.append([result[4],result[5]])"
      ]
    },
    {
      "cell_type": "code",
      "execution_count": null,
      "metadata": {
        "id": "xQJQklnfx6w6"
      },
      "outputs": [],
      "source": [
        "def generator(x,y):\n",
        "  return TimeseriesGenerator(x,y, length = window_length, sampling_rate=1, batch_size=batch_size)"
      ]
    },
    {
      "cell_type": "code",
      "execution_count": null,
      "metadata": {
        "id": "oXkoRTEgx9jA"
      },
      "outputs": [],
      "source": [
        "test_generator = []\n",
        "for test in test_set:\n",
        "  test_generator.append(generator(test[0],test[1]))"
      ]
    },
    {
      "cell_type": "code",
      "execution_count": null,
      "metadata": {
        "id": "vPAFZ_GNyDmA"
      },
      "outputs": [],
      "source": [
        "def make_prediction(model, test_gen):\n",
        "  return model.predict_generator(test_gen)"
      ]
    },
    {
      "cell_type": "code",
      "execution_count": null,
      "metadata": {
        "id": "B2K2GFFSrtWs"
      },
      "outputs": [],
      "source": [
        "import pickle\n",
        "models = []\n",
        "for i in range(len(tx_pwr)):\n",
        "  file_name = f'saved_model_{tx_pwr[i]}.pkl'\n",
        "  models.append(pickle.load(open(file_name,'rb')))"
      ]
    },
    {
      "cell_type": "code",
      "execution_count": null,
      "metadata": {
        "id": "qZ8lUD2TyWAG"
      },
      "outputs": [],
      "source": [
        "predictions = []\n",
        "for i in range(len(test_generator)):\n",
        "  predictions.append(make_prediction(models[i], test_generator[i]))"
      ]
    },
    {
      "cell_type": "code",
      "execution_count": null,
      "metadata": {
        "id": "oIv-esAFHqNW"
      },
      "outputs": [],
      "source": [
        "def actual_pred(predictions, x_test, df_input, scaler):\n",
        "  df_pred = pd.concat([pd.DataFrame(x_test[:][window_length:]),pd.DataFrame(predictions)],axis=1)\n",
        "  reverse_trans = scaler.inverse_transform(df_pred)\n",
        "  df_final = df_input[-predictions.shape[0]:]\n",
        "  df_final['pred'] = reverse_trans[:,-1]\n",
        "  return df_final"
      ]
    },
    {
      "cell_type": "code",
      "execution_count": null,
      "metadata": {
        "id": "LFrgq3uVJfuO"
      },
      "outputs": [],
      "source": [
        "final_preds = []\n",
        "for i in range(len(tx_pwr)):\n",
        "  df_final = actual_pred(predictions[i], test_set[i][0], df_input[i], scaler_set[i])\n",
        "  final_preds.append(df_final['pred'])"
      ]
    },
    {
      "cell_type": "code",
      "execution_count": null,
      "metadata": {
        "id": "sSncQPZB-tdo"
      },
      "outputs": [],
      "source": [
        "rssi_values = []\n",
        "for preds in final_preds:\n",
        "  rssi_values.append(list(preds)[-1])\n",
        "rssi_values"
      ]
    },
    {
      "cell_type": "code",
      "execution_count": null,
      "metadata": {
        "id": "dSgI9kLh6zqE"
      },
      "outputs": [],
      "source": [
        "# ========================== SIMULATION PARAMETERS ====================================#\n",
        "import numpy as np\n",
        "\n",
        "N_DEVICES = 50\n",
        "MAX_TX_POWER = 20 #dBm\n",
        "SPLITTING_FACTOR = 0.5\n",
        "TRANSMISSION_RANGE = 10 #meters\n",
        "CHARGING_RANGE = 10 #meters\n",
        "GAMMA = 3 #dB\n",
        "SIGMA = -90 #dBm\n",
        "ANTENNA_NUM = 1\n",
        "GATEWAY_ANTENNA = 1\n",
        "REF_DIST = 1 #meters\n",
        "ALPHA = -20 #dB\n",
        "BETA = 2\n",
        "GATEWAY_POS = np.array((0,0)) # meters\n",
        "DEPLOY_AREA = (45,45) # sq.meters\n",
        "d = 1\n",
        "SPREADING_FACTOR = 7\n",
        "BANDWIDTH = 250 #KHz\n",
        "HARV_EFF = 0.85 #Assuming linear conversion efficiency\n",
        "NUM_SYMBOLS = 12\n",
        "TIME_ON_AIR = NUM_SYMBOLS * ((2**SPREADING_FACTOR) / BANDWIDTH)\n",
        "TX_POWER = range(10, 21)\n",
        "\n"
      ]
    },
    {
      "cell_type": "code",
      "execution_count": null,
      "metadata": {
        "id": "W1ulD8jtp78_"
      },
      "outputs": [],
      "source": [
        "# Sample IoT devices uniformly around the fixed gateway\n",
        "import numpy as np\n",
        "import matplotlib.pyplot as plt\n",
        "def deployment(n_devices, deploy_area):\n",
        "  positions = np.random.uniform(-deploy_area,deploy_area, size = (n_devices,2))\n",
        "  return positions"
      ]
    },
    {
      "cell_type": "code",
      "execution_count": null,
      "metadata": {
        "id": "xhgzUO7BurPh"
      },
      "outputs": [],
      "source": [
        "# Plot the deployed IoT devices and gateway\n",
        "positions = deployment(N_DEVICES, (DEPLOY_AREA[0])/2)\n",
        "plt.rcParams[\"figure.figsize\"] = [5, 5]\n",
        "plt.plot(GATEWAY_POS[0],GATEWAY_POS[1],marker = \"o\", markerfacecolor=\"red\")\n",
        "plt.scatter(positions[:,0], positions[:,1])"
      ]
    },
    {
      "cell_type": "code",
      "execution_count": null,
      "metadata": {
        "id": "VPjeWTTvvFW_"
      },
      "outputs": [],
      "source": [
        "#Generating list of edges\n",
        "import numpy as np\n",
        "def generate_edgelist(n_devices, positions, gateway_pos):\n",
        "  edge = []\n",
        "  for i in range(0, n_devices+1):\n",
        "    for j in range(i+1, n_devices+1):\n",
        "      dist = 0\n",
        "      if i == n_devices or j == n_devices:\n",
        "        dist = np.linalg.norm(positions[i]-GATEWAY_POS)\n",
        "      else:\n",
        "        dist = np.linalg.norm(positions[i]-positions[j])\n",
        "      if(dist < CHARGING_RANGE):\n",
        "        edge.append((i,j))\n",
        "        edge.append((j,i))\n",
        "  return edge\n"
      ]
    },
    {
      "cell_type": "code",
      "execution_count": null,
      "metadata": {
        "id": "VyKfp3aK9z6c"
      },
      "outputs": [],
      "source": [
        "#construct adjacency list\n",
        "def generate_adj_list(edges):\n",
        "  adj_list = {}\n",
        "  for edge in edges:\n",
        "    v1 = edge[0]\n",
        "    v2 = edge[1]\n",
        "    if v1 in adj_list:\n",
        "      adj_list[v1].add(v2)\n",
        "    else:\n",
        "      adj_list[v1] = {v2};\n",
        "    if v2 in adj_list:\n",
        "      adj_list[v2].add(v1)\n",
        "    else:\n",
        "      adj_list[v2] = {v1}\n",
        "  return adj_list"
      ]
    },
    {
      "cell_type": "code",
      "execution_count": null,
      "metadata": {
        "id": "rW8CFMGc7smn"
      },
      "outputs": [],
      "source": [
        "edges = generate_edgelist(N_DEVICES, positions, GATEWAY_POS)\n",
        "edge_to_idx = {}\n",
        "for i in range(len(edges)):\n",
        "  edge_to_idx[edges[i]] = i\n",
        "\n",
        "adj_list = generate_adj_list(edges)\n",
        "for k in adj_list:\n",
        "  print(\"{} :-> {}\\n\".format(k, adj_list[k]))\n"
      ]
    },
    {
      "cell_type": "code",
      "execution_count": null,
      "metadata": {
        "id": "9GwZbD19tkib"
      },
      "outputs": [],
      "source": [
        "#Check if the connected graph is connected or not\n",
        "visited = [False for i in range(N_DEVICES+1)]\n",
        "visited[N_DEVICES] = True\n",
        "def dfs(src):\n",
        "  for i in adj_list[src]:\n",
        "    if not visited[i]:\n",
        "      visited[i] = True\n",
        "      dfs(i)\n",
        "\n",
        "dfs(N_DEVICES)\n",
        "isConnected = True\n",
        "for i in visited:\n",
        "  isConnected = isConnected and i\n",
        "\n",
        "if isConnected:\n",
        "  print(\"connected\")\n",
        "else:\n",
        "  print(\"Not connected\")"
      ]
    },
    {
      "cell_type": "code",
      "execution_count": null,
      "metadata": {
        "id": "WPySTgXPjjSI"
      },
      "outputs": [],
      "source": [
        "#find how many devices each edge can charge\n",
        "edge_charge = {}\n",
        "for edge in edges:\n",
        "  if N_DEVICES in adj_list[edge[0]]:\n",
        "    edge_charge[edge] = len(adj_list[edge[0]])-1\n",
        "  else:\n",
        "    edge_charge[edge] = len(adj_list[edge[0]])\n"
      ]
    },
    {
      "cell_type": "code",
      "execution_count": null,
      "metadata": {
        "id": "rVdSO73GiZUo"
      },
      "outputs": [],
      "source": [
        "#sort the edges in descending order depending upon the number of devices it charges\n",
        "sorted_list = sorted(edge_charge.items(), key = lambda kv: kv[1], reverse = True)\n",
        "sorted_edges = [e[0] for e in sorted_list]"
      ]
    },
    {
      "cell_type": "code",
      "execution_count": null,
      "metadata": {
        "id": "j3xU9i-ioXrk"
      },
      "outputs": [],
      "source": [
        "#Ensure all communications are half-duplex\n",
        "#Function returns FALSE if neight router i nor j exists in the transmission set Sz\n",
        "def HalfDuplex(edge, S_z):\n",
        "  for e in S_z:\n",
        "    if edge[0] in e or edge[1] in e:\n",
        "      return True\n",
        "  return False"
      ]
    },
    {
      "cell_type": "code",
      "execution_count": null,
      "metadata": {
        "id": "jfEgXpxNFlgN"
      },
      "outputs": [],
      "source": [
        "def get_edge_idx(edge):\n",
        "  for i in range(len(edges)):\n",
        "    if edges[i] == edge:\n",
        "      return i\n"
      ]
    },
    {
      "cell_type": "code",
      "execution_count": null,
      "metadata": {
        "id": "qWFGX7XHO6ZN"
      },
      "outputs": [],
      "source": [
        "#construct channel gain matrix\n",
        "channel_gain = []\n",
        "for u_pair in edges:\n",
        "  gain = []\n",
        "  for a1 in range(ANTENNA_NUM):\n",
        "    row = []\n",
        "    for a2 in range(ANTENNA_NUM):\n",
        "      if u_pair[0] == N_DEVICES:\n",
        "        dist = 1/(np.linalg.norm(GATEWAY_POS-positions[u_pair[1]]))**(2.5)\n",
        "      elif u_pair[1] == N_DEVICES:\n",
        "        dist = 1/(np.linalg.norm(positions[u_pair[0]]-GATEWAY_POS))**(2.5)\n",
        "      else:\n",
        "        dist = 1/(np.linalg.norm(positions[u_pair[0]]-positions[u_pair[1]]))**(2.5)\n",
        "      row.append(dist)\n",
        "    gain.append(row)\n",
        "  channel_gain.append(gain)\n",
        "channel_gain"
      ]
    },
    {
      "cell_type": "code",
      "execution_count": null,
      "metadata": {
        "id": "w77bkbDh_qV2"
      },
      "outputs": [],
      "source": [
        "#construct channel gain matrix\n",
        "from numpy.random import exponential\n",
        "import random\n",
        "\n",
        "#use Reyleigh channel fading\n",
        "channel_gain = []\n",
        "random.seed(0)\n",
        "for u_pair in edges:\n",
        "  gain = []\n",
        "  if u_pair[0] == N_DEVICES:\n",
        "    x = exponential(scale = 1, size = GATEWAY_ANTENNA*ANTENNA_NUM)\n",
        "    next = 0\n",
        "    for a1 in range(GATEWAY_ANTENNA):\n",
        "      row = []\n",
        "      for a2 in range(ANTENNA_NUM):\n",
        "        dist = np.linalg.norm(GATEWAY_POS-positions[u_pair[1]])\n",
        "        row.append(x[next]*ALPHA*(dist/REF_DIST)**(-BETA))\n",
        "        next += 1\n",
        "      gain.append(row)\n",
        "  elif u_pair[1] == N_DEVICES:\n",
        "    x = exponential(scale = 1, size = ANTENNA_NUM*GATEWAY_ANTENNA)\n",
        "    next = 0\n",
        "    for a1 in range(ANTENNA_NUM):\n",
        "      row = []\n",
        "      for a2 in range(GATEWAY_ANTENNA):\n",
        "        dist = np.linalg.norm(positions[u_pair[0]]-GATEWAY_POS)\n",
        "        row.append(x[next]*ALPHA*(dist/REF_DIST)**(-BETA))\n",
        "        next += 1\n",
        "      gain.append(row)\n",
        "  else:\n",
        "    x = exponential(scale = 1, size = ANTENNA_NUM**2)\n",
        "    next = 0\n",
        "    for a1 in range(ANTENNA_NUM):\n",
        "      row = []\n",
        "      for a2 in range(ANTENNA_NUM):\n",
        "        dist = np.linalg.norm(positions[u_pair[0]]-positions[u_pair[1]])\n",
        "        row.append(x[next]*ALPHA*(dist/REF_DIST)**(-BETA))\n",
        "        next += 1\n",
        "      gain.append(row)\n",
        "  channel_gain.append(gain)\n"
      ]
    },
    {
      "cell_type": "code",
      "execution_count": null,
      "metadata": {
        "id": "T8JWaxeFVSxq"
      },
      "outputs": [],
      "source": [
        "!pip install gurobipy>=9.5.1"
      ]
    },
    {
      "cell_type": "code",
      "execution_count": null,
      "metadata": {
        "id": "Q0KSrc0GR4Pj"
      },
      "outputs": [],
      "source": [
        "from gurobipy import *\n",
        "e = Env(empty = True)\n",
        "e.setParam('WLSACCESSID', '')\n",
        "e.setParam('WLSSECRET','')\n",
        "e.setParam('LICENSEID',)\n",
        "e.start()"
      ]
    },
    {
      "cell_type": "code",
      "execution_count": null,
      "metadata": {
        "id": "_52IoeXjWuCr"
      },
      "outputs": [],
      "source": [
        "def mul(li,scalar):\n",
        "    return [(i,scalar) for i in li]"
      ]
    },
    {
      "cell_type": "code",
      "execution_count": null,
      "metadata": {
        "id": "Lna04rF2GKpC"
      },
      "outputs": [],
      "source": [
        "import math\n",
        "def P_Allocation(S_z, gamma,max_pwr):\n",
        "\n",
        "  #setting the problem variable\n",
        "  prob = Model(env = e)\n",
        "  prob.setParam(\"BarHomogeneous\", 1)\n",
        "\n",
        "  #setting the decision variables\n",
        "  trans_set = set()\n",
        "  recv_set = set()\n",
        "  for links in S_z:\n",
        "    trans_set.add(links[0])\n",
        "    recv_set.add(links[1])\n",
        "  \n",
        "  trans_pwr = {(i,k): prob.addVar(lb = 0, ub = 1, vtype = GRB.BINARY, name=\"p_{0}_{1}\".format(i,k)) for i in range(N_DEVICES+1) for k in range(len(tx_pwr))}\n",
        "\n",
        "  eh_rate = {i: prob.addVar(lb = -GRB.INFINITY, vtype = GRB.CONTINUOUS, name = \"delta_{0}\".format(i)) for i in range(N_DEVICES)}\n",
        "\n",
        "  recv_pwr = {n: prob.addVar(lb = -GRB.INFINITY, vtype = GRB.CONTINUOUS, name = \"P_{0}\".format(n)) for n in range(N_DEVICES)}\n",
        "\n",
        "  denom = {i: prob.addVar(lb = -GRB.INFINITY, name = 'denom_{0}'.format(i)) for i in range(len(S_z))}\n",
        "\n",
        "  #Define the objective function\n",
        "  obj = sum(eh_rate[i] for i in range(N_DEVICES))\n",
        "\n",
        "  prob.ModelSense = GRB.MAXIMIZE\n",
        "  prob.setParam('NonConvex',2)\n",
        "\n",
        "  prob.setObjective(obj)\n",
        "\n",
        "  #Defining constraints\n",
        "\n",
        "  #exactly one transmit level should be activated for a transmitting node\n",
        "  constr_1 = {i: prob.addConstr(sum(trans_pwr[i,k] for k in range(max_pwr)) == 1, name = \"constr_1_{0}\".format(i)) \n",
        "          for i in trans_set}\n",
        "\n",
        "  #Adding SINR_CONSTRAINT based on Rayleigh fading channels\n",
        "  link_no = 0\n",
        "  for links in S_z:\n",
        "    i = links[0]\n",
        "    j = links[1]\n",
        "\n",
        "    temp = LinExpr(rssi_values[0], trans_pwr[i,0])\n",
        "    for k in range(1, max_pwr):\n",
        "      temp.add(LinExpr(rssi_values[k], trans_pwr[i,k]))\n",
        "    \n",
        "    temp2 = LinExpr()\n",
        "    for l_rs in S_z:\n",
        "      if l_rs != links:\n",
        "        r = l_rs[0]\n",
        "        s = l_rs[1]\n",
        "        if j in adj_list[r]:\n",
        "          for k in range(max_pwr):\n",
        "            temp2.add(LinExpr(rssi_values[k], trans_pwr[r,k]))\n",
        "    temp2.add(LinExpr(SIGMA))\n",
        "    prob.addConstr(temp2*denom[link_no] == 1, name = 'constr_2_1_{0}'.format(link_no))\n",
        "    prob.addConstr(temp*denom[link_no] >= gamma, name = 'constr_2_2_{0}'.format(link_no))\n",
        "    link_no += 1\n",
        "\n",
        "    #constraint for receieved power\n",
        "    constr_3 = {n: prob.addConstr(recv_pwr[n] == sum(trans_pwr[i,k]*rssi_values[k] for k in range(max_pwr) for i in adj_list[n]), name = 'constr_3_{0}'.format(n)) for n in range(N_DEVICES)}\n",
        "\n",
        "    #transmit power of not transmitting devices is 0\n",
        "    constr_4 = {i: prob.addConstr(sum(trans_pwr[i,k] for k in range(max_pwr)) == 0, name = \"constr_4_{0}\".format(i)) \n",
        "            for i in range(N_DEVICES+1) if i not in trans_set}\n",
        "\n",
        "    #constraint for energy harvesting rate\n",
        "    constr_5 = {n: prob.addConstr(eh_rate[n] == recv_pwr[n]) for n in range(N_DEVICES)}\n",
        "\n",
        "    #solve the problem\n",
        "    # prob.computeIIS()\n",
        "    # prob.write(\"model.ilp\")\n",
        "    # prob.feasRelaxS(2,True,False,True)\n",
        "    # prob.feasRelaxS(1, False, False, True)\n",
        "    prob.optimize()\n",
        "    prob.write(\"out.lp\")\n",
        "\n",
        "    #get the value of decision variables\n",
        "    antenna_weights = {}\n",
        "    EH_rates = []\n",
        "    flag = False\n",
        "    if prob.status in (GRB.OPTIMAL, GRB.SUBOPTIMAL):\n",
        "      flag = True\n",
        "      for i in trans_set:\n",
        "        antenna_weights[i] = []\n",
        "        for k in range(max_pwr):\n",
        "          if prob.getVarByName(\"p_{0}_{1}\".format(i,k)).x == 1:\n",
        "            antenna_weights[i].append(tx_pwr[k])\n",
        "      for rate in [\"delta_{0}\".format(n) for n in range(N_DEVICES)]:\n",
        "        EH_rates.append(HARV_EFF*(prob.getVarByName(rate).x))\n",
        "    prob.reset(1)\n",
        "    return [flag, antenna_weights, EH_rates]\n"
      ]
    },
    {
      "cell_type": "code",
      "execution_count": null,
      "metadata": {
        "id": "Aeq5bX9UAI68"
      },
      "outputs": [],
      "source": [
        "sched_len = []\n",
        "for i in range(len(tx_pwr)):\n",
        "  temp_edges = sorted_edges.copy()  \n",
        "  z = 0\n",
        "  #phase-1\n",
        "  GAMMA = -10 #dBm\n",
        "  antenna_wt = []\n",
        "  H = []\n",
        "  S = []\n",
        "  A = []\n",
        "  while len(sorted_edges) != 0:\n",
        "    antenna_wt.append([])\n",
        "    H.append([])\n",
        "    S.append([])\n",
        "    for edge in sorted_edges:\n",
        "      if HalfDuplex(edge, S[z]) == False:\n",
        "        tempS_z = S[z] + [edge]\n",
        "        p_alloc_res = P_Allocation(tempS_z, GAMMA, i)\n",
        "        if p_alloc_res[0]:\n",
        "          S[z] = tempS_z\n",
        "          # print(p_alloc_res)\n",
        "          antenna_wt[z] = p_alloc_res[1]\n",
        "          H[z] = p_alloc_res[2]\n",
        "    if len(S[z]) == 0:\n",
        "      break;\n",
        "    for link in S[z]:\n",
        "      sorted_edges.remove(link)\n",
        "    z += 1\n",
        "  print(antenna_wt)\n",
        "  sched_len.append(len(S))\n",
        "  sorted_edges = temp_edges.copy()"
      ]
    }
  ],
  "metadata": {
    "accelerator": "GPU",
    "colab": {
      "provenance": []
    },
    "gpuClass": "standard",
    "kernelspec": {
      "display_name": "Python 3",
      "name": "python3"
    },
    "language_info": {
      "name": "python"
    }
  },
  "nbformat": 4,
  "nbformat_minor": 0
}
