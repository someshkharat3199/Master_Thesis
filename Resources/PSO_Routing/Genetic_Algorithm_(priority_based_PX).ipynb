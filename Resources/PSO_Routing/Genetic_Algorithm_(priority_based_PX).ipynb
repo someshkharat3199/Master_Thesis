{
  "cells": [
    {
      "cell_type": "code",
      "execution_count": null,
      "metadata": {
        "id": "D1WB23FHYmbF"
      },
      "outputs": [],
      "source": [
        "import random\n",
        "import copy\n",
        "import networkx as nx\n",
        "import numpy as np\n",
        "import matplotlib.colors as mcolors\n",
        "import matplotlib.pyplot as plt\n",
        "from scipy.spatial import ConvexHull, convex_hull_plot_2d\n",
        "import math\n",
        "import pickle\n",
        "import os\n",
        "import time\n",
        "from datetime import datetime\n",
        "from google.colab import drive"
      ]
    },
    {
      "cell_type": "code",
      "execution_count": null,
      "metadata": {
        "colab": {
          "base_uri": "https://localhost:8080/"
        },
        "id": "2wJQovu12x4j",
        "outputId": "8233022b-933a-4e18-c0b0-435f03e2b675"
      },
      "outputs": [
        {
          "output_type": "stream",
          "name": "stdout",
          "text": [
            "Mounted at /content/gdrive\n"
          ]
        }
      ],
      "source": [
        "drive.mount('/content/gdrive')"
      ]
    },
    {
      "cell_type": "code",
      "execution_count": null,
      "metadata": {
        "id": "dPatMzs3Y3f9"
      },
      "outputs": [],
      "source": [
        "random.seed(datetime.now().timestamp())"
      ]
    },
    {
      "cell_type": "code",
      "execution_count": null,
      "metadata": {
        "id": "ErUSsoId2zzN"
      },
      "outputs": [],
      "source": [
        "!unzip /content/gdrive/MyDrive/Networks/test_cases.zip -d /"
      ]
    },
    {
      "cell_type": "code",
      "execution_count": null,
      "metadata": {
        "id": "yTcNVeqYZCBW"
      },
      "outputs": [],
      "source": [
        "num_of_nodes =  [20,25,30,35,40,45,50,55,60]\n",
        "test_case_num = 30\n",
        "\n",
        "#defining network parameters\n",
        "GATEWAY_ID = 0\n",
        "spread_factor = range(7,13)"
      ]
    },
    {
      "cell_type": "code",
      "execution_count": null,
      "metadata": {
        "id": "eF8kVem-ZRRv"
      },
      "outputs": [],
      "source": [
        "#initializing chromosomes\n",
        "population_size = 44\n",
        "max_generations = 500\n",
        "init_priority = (-100,100)\n",
        "large_positive_value = 10**6\n",
        "crossover_rate = 0.62\n",
        "tau_max = 0.3\n",
        "mutation_rate = 0.12\n",
        "C = 0.5\n",
        "alpha = 1\n",
        "beta = 2"
      ]
    },
    {
      "cell_type": "code",
      "execution_count": null,
      "metadata": {
        "id": "cQDe9ZySZblE"
      },
      "outputs": [],
      "source": [
        "class Population:\n",
        "  def __init__(self, objVal, fitness, chromosome):\n",
        "    self.objVal = objVal\n",
        "    self.fitness = fitness\n",
        "    self.chromosome = chromosome\n",
        "\n",
        "  def __str__(self):\n",
        "    return f'''\n",
        "              Chromosome = {self.chromosome}\\n\n",
        "              fitness    = {self.fitness}\\n\n",
        "              objective  = {self.objVal}\\n\n",
        "            '''"
      ]
    },
    {
      "cell_type": "code",
      "execution_count": null,
      "metadata": {
        "id": "Ltvr7-CNZy3D"
      },
      "outputs": [],
      "source": [
        "def dist(a,b):\n",
        "  x1,y1 = a\n",
        "  x2,y2 = b\n",
        "  return math.sqrt((x2-x1)**2+(y2-y1)**2)"
      ]
    },
    {
      "cell_type": "code",
      "execution_count": null,
      "metadata": {
        "id": "NDBITqx_gLhr"
      },
      "outputs": [],
      "source": [
        "def bsearch(arr,target):\n",
        "  low = 0; high = len(arr)-1\n",
        "  while(low < high):\n",
        "      mid = math.floor((low + high)/2)\n",
        "      if(arr[mid] >= target):\n",
        "        high = mid\n",
        "      else:\n",
        "        low = mid+1\n",
        "  return low"
      ]
    },
    {
      "cell_type": "code",
      "execution_count": null,
      "metadata": {
        "id": "b04aTEg9Z3Ki"
      },
      "outputs": [],
      "source": [
        "def read_data(path, isGraph):\n",
        "  if isGraph:\n",
        "    G = nx.read_gml(path,destringizer=int)\n",
        "    return G\n",
        "  with open(path,'rb') as file:\n",
        "    data = pickle.load(file)\n",
        "    file.close()\n",
        "    return data"
      ]
    },
    {
      "cell_type": "code",
      "execution_count": null,
      "metadata": {
        "id": "PrqqyFhfaBt0"
      },
      "outputs": [],
      "source": [
        "#Integer-Valued-Priority-based-encoding\n",
        "def decode_path(G, start_node, chromosome):\n",
        "\n",
        "  #list with a single element start_node\n",
        "  nodes = [start_node]\n",
        "  indices = []\n",
        "  valid_path = True\n",
        "  while nodes[-1] != GATEWAY_ID:\n",
        "\n",
        "    #Set of neighours in G of last element in nodes\n",
        "    neighours = G.adj[nodes[-1]]\n",
        "\n",
        "    #Set of elements in neighours not in nodes\n",
        "    allowed = [ele for ele in neighours if ele not in nodes]\n",
        "\n",
        "    #if allowed is empty means path got stuck.\n",
        "    if len(allowed) == 0:\n",
        "      nodes.append(GATEWAY_ID)\n",
        "      valid_path = False\n",
        "    else:\n",
        "      #last element of nodes list\n",
        "      prevNode = nodes[-1]\n",
        "\n",
        "      #node with maximum priority in allowed\n",
        "      subset = {key : chromosome[key] for key in chromosome.keys() if key in allowed}\n",
        "      nextNode = max(subset ,key = lambda x : subset[x])\n",
        "\n",
        "      #Add nextNode to nodes\n",
        "      nodes.append(nextNode)\n",
        "\n",
        "      #paralled edge indicator for node prevNode\n",
        "      r = abs(chromosome[prevNode]) - int(abs(chromosome[prevNode]))\n",
        "      currentIndex = math.floor(r*6)+1\n",
        "    \n",
        "    #add currentIndex to indices\n",
        "    indices.append(currentIndex+6)\n",
        "\n",
        "  return [valid_path,nodes,indices]"
      ]
    },
    {
      "cell_type": "code",
      "execution_count": null,
      "metadata": {
        "id": "ov6OlBDla_Jc"
      },
      "outputs": [],
      "source": [
        "def evaluate_population(population ,generation_counter, edge_nodes, G, network_data):\n",
        "  for individual in population:\n",
        "    obj_val = 0\n",
        "    for f in edge_nodes:\n",
        "      valid, nodes, indices = decode_path(G, f, individual.chromosome)\n",
        "      #adding a penalty if invalid path is returned\n",
        "      if not valid:\n",
        "        obj_val = obj_val + large_positive_value\n",
        "        continue\n",
        "\n",
        "      indices.append(7)\n",
        "      a = [i for i in nodes[:-1]]\n",
        "      b = [j for j in nodes[1:]]\n",
        "      path = [(i,j,k) for i,j,k in zip(a,b,indices)]\n",
        "      #calculate cost of path and adding link capacity penalty\n",
        "      total_delay = 0\n",
        "      for i,j,k in path:\n",
        "        obj_val = obj_val + network_data['cst'][f,i,j,k]\n",
        "        if network_data['max_edge_data_rate'][k]-network_data['data_rate'][f,i,j,k] < 0:\n",
        "          obj_val = obj_val + network_data['cst'][f,i,j,k] + ((C*generation_counter)**alpha)*((network_data['max_edge_data_rate'][k]-network_data['data_rate'][f,i,j,k])**beta) \n",
        "        total_delay = total_delay + network_data['edge_delays'][f,i,j] + network_data['tx_time'][k] + network_data['eh_time'][i,k]\n",
        "      \n",
        "      #Adding delay constraint penalty\n",
        "      if network_data['max_flow_delays'][f]-total_delay < 0:\n",
        "        obj_val = obj_val + ((C*generation_counter)**alpha)*((network_data['max_flow_delays'][f]-total_delay)**beta)\n",
        "    individual.objVal = obj_val\n",
        "    individual.fitness = 1/obj_val"
      ]
    },
    {
      "cell_type": "code",
      "execution_count": null,
      "metadata": {
        "id": "xCdQZABtgV1g"
      },
      "outputs": [],
      "source": [
        "def roulette_wheel_sel(population):\n",
        "  new_population = []\n",
        "  probability = []\n",
        "  total_fitness = 0\n",
        "  for p in population:\n",
        "    total_fitness = total_fitness + p.fitness\n",
        "  for p in population:\n",
        "    probability.append(p.fitness/total_fitness)\n",
        "  \n",
        "  cumulative_prob = [probability[0]]\n",
        "  for k in range(1,population_size):\n",
        "    cumulative_prob.append(cumulative_prob[-1] + probability[k])\n",
        "\n",
        "  for k in range(population_size):\n",
        "    rand_num = random.uniform(0,1);\n",
        "    idx = bsearch(cumulative_prob, rand_num)\n",
        "    new_population.append(copy.deepcopy(population[idx]))\n",
        "  return new_population"
      ]
    },
    {
      "cell_type": "code",
      "execution_count": null,
      "metadata": {
        "id": "s9Xqq629gqlJ"
      },
      "outputs": [],
      "source": [
        "def perform_crossover(p1,p2,population):\n",
        "  N_DEVICES = len(population[0].chromosome)\n",
        "  num_genes = random.randint(1,N_DEVICES-1)\n",
        "  pos_selected = random.sample(range(N_DEVICES),num_genes)\n",
        "  parent1_chromo = population[p1].chromosome\n",
        "  parent2_chromo = population[p2].chromosome\n",
        "  offspring1_chromo = {i:-1 for i in range(N_DEVICES)}\n",
        "  offspring2_chromo = {i:-1 for i in range(N_DEVICES)}\n",
        "\n",
        "  i = 0\n",
        "  j = 0\n",
        "  for idx in range(len(offspring1_chromo)):\n",
        "    if idx in pos_selected:\n",
        "      offspring1_chromo[idx] = parent1_chromo[idx]\n",
        "      offspring2_chromo[idx] = parent2_chromo[idx]\n",
        "    else:\n",
        "      while i < len(parent2_chromo) and parent2_chromo[i] in offspring1_chromo:\n",
        "        i = i+1\n",
        "      while j < len(parent1_chromo) and parent1_chromo[j] in offspring2_chromo:\n",
        "        j = j+1\n",
        "\n",
        "      offspring1_chromo[idx] = parent2_chromo[i]\n",
        "      offspring2_chromo[idx] = parent1_chromo[j]\n",
        "  offspring1 = Population(0,0,offspring1_chromo)\n",
        "  offspring2 = Population(0,0,offspring2_chromo)\n",
        "  return [offspring1,offspring2]"
      ]
    },
    {
      "cell_type": "code",
      "execution_count": null,
      "metadata": {
        "id": "o8yNmMCXgxPu"
      },
      "outputs": [],
      "source": [
        "def pbx_crossover(population, crossover_rate):\n",
        "  mating_pool = []\n",
        "  parent_idx = [i for i in range(population_size)]\n",
        "  new_population = []\n",
        "  while len(parent_idx) != 0:\n",
        "    p1 = random.choice(parent_idx)\n",
        "    parent_idx.remove(p1)\n",
        "    p2 = random.choice(parent_idx)\n",
        "    parent_idx.remove(p2)\n",
        "    mating_pool.append((p1,p2))\n",
        "\n",
        "  for p1,p2 in mating_pool:\n",
        "    if random.uniform(0,1) < crossover_rate:\n",
        "      new_population = new_population + [*perform_crossover(p1,p2,population)]\n",
        "    else:\n",
        "      new_population = new_population + [copy.deepcopy(population[p1]),copy.deepcopy(population[p2])]\n",
        "  return new_population"
      ]
    },
    {
      "cell_type": "code",
      "execution_count": null,
      "metadata": {
        "id": "bgSJF59kizO8"
      },
      "outputs": [],
      "source": [
        "def swap(a,b, chromosome):\n",
        "  temp = chromosome[a]\n",
        "  chromosome[a] = chromosome[b]\n",
        "  chromosome[b] = temp"
      ]
    },
    {
      "cell_type": "code",
      "execution_count": null,
      "metadata": {
        "id": "VvGfIUtCi2Vy"
      },
      "outputs": [],
      "source": [
        "def insert_mutation(population, mutation_rate):\n",
        "  N_DEVICES = len(population[0].chromosome)\n",
        "  for individual in population:\n",
        "    if random.uniform(0,1) < mutation_rate:\n",
        "      random_pos = random.sample(range(N_DEVICES),2)\n",
        "      min_pos = min(random_pos)\n",
        "      max_pos = max(random_pos)\n",
        "      while max_pos != min_pos+1:\n",
        "        swap(max_pos, max_pos-1, individual.chromosome)\n",
        "        max_pos = max_pos-1\n",
        "    else:\n",
        "      continue"
      ]
    },
    {
      "cell_type": "code",
      "execution_count": null,
      "metadata": {
        "id": "ZoqCUcEMi5TI"
      },
      "outputs": [],
      "source": [
        "#mu-lambda survivor strategy\n",
        "def elitism(parent, offspring):\n",
        "  parents_offsprings = {}\n",
        "  new_population = []\n",
        "  for i in range(population_size):\n",
        "    parents_offsprings[parent[i]] = parent[i].fitness\n",
        "    parents_offsprings[offspring[i]] = offspring[i].fitness\n",
        "  \n",
        "  for i in range(population_size):\n",
        "    best_individual = max(parents_offsprings, key = lambda x: parents_offsprings[x])\n",
        "    del parents_offsprings[best_individual]\n",
        "    new_population.append(copy.deepcopy(best_individual))\n",
        "  return new_population"
      ]
    },
    {
      "cell_type": "code",
      "execution_count": null,
      "metadata": {
        "id": "pjELehFUnib9"
      },
      "outputs": [],
      "source": [
        "def node_hopcount(G):\n",
        "  queue = [GATEWAY_ID]\n",
        "  N_DEVICES = len(G.nodes)\n",
        "  hops = 0\n",
        "  visited = [False for node in range(N_DEVICES)]\n",
        "  visited[GATEWAY_ID] = True\n",
        "  hopcounts = {}\n",
        "  while len(queue) != 0:\n",
        "    for i in range(len(queue)):\n",
        "      front = queue.pop(0)\n",
        "      hopcounts[front] = hops\n",
        "      for adj_nodes in G.adj[front]:\n",
        "        if not visited[adj_nodes]:\n",
        "          visited[adj_nodes] = True\n",
        "          queue.append(adj_nodes)\n",
        "    hops = hops + 1\n",
        "  return hopcounts"
      ]
    },
    {
      "cell_type": "code",
      "execution_count": null,
      "metadata": {
        "id": "35wAP7wgnojg"
      },
      "outputs": [],
      "source": [
        "def heuristic_init1(G):\n",
        "  N_DEVICES = len(G.nodes)\n",
        "  hopcounts = node_hopcount(G)\n",
        "  population = []\n",
        "  for i in range(math.ceil(population_size)):\n",
        "    temp_list = [(node, -hopcounts[node] + random.uniform(0, tau_max)) for node in range(N_DEVICES)]\n",
        "    temp_list.sort(key=lambda x: x[1])\n",
        "    integer_priority = {}\n",
        "    for priority in range(len(temp_list)):\n",
        "      integer_priority[temp_list[priority][0]] = priority + random.random()\n",
        "    population.append(Population(0,0,integer_priority))\n",
        "  return population"
      ]
    },
    {
      "cell_type": "code",
      "execution_count": null,
      "metadata": {
        "id": "cDV9UTpHji0B"
      },
      "outputs": [],
      "source": [
        "def Genetic_Algorithm(G, edge_nodes, network_data):\n",
        "  start = time.time()\n",
        "  end = time.time()\n",
        "  converge_iter = 0\n",
        "  t = 1\n",
        "  N_DEVICES = len(G.nodes)\n",
        "\n",
        "  #Heuristic initialization of population\n",
        "  population = heuristic_init1(G)\n",
        "\n",
        "  #Evaluate initial population\n",
        "  # evaluate_population :=> population ,generation_counter, edge_nodes, G, network_data\n",
        "  evaluate_population(population, t, edge_nodes, G, network_data)\n",
        "\n",
        "  #initialize global best\n",
        "  best_individual = population[0] \n",
        "  \n",
        "  while t <= max_generations:\n",
        "\n",
        "    #survival of the fittest\n",
        "    new_population = roulette_wheel_sel(population)\n",
        "\n",
        "    #crossover\n",
        "    offspring_population = pbx_crossover(new_population, crossover_rate)\n",
        "\n",
        "    #mutation\n",
        "    insert_mutation(offspring_population, mutation_rate)\n",
        "\n",
        "    #evaluate offspring population\n",
        "    evaluate_population(offspring_population, t, edge_nodes, G, network_data)\n",
        "\n",
        "    for p in population:\n",
        "      if p.fitness < best_individual.fitness:\n",
        "        best_individual = copy.deepcopy(p)\n",
        "        converge_iter = t\n",
        "        end = time.time()\n",
        "\n",
        "    #survival of the fittest\n",
        "    population = elitism(population, offspring_population)\n",
        "\n",
        "    t = t+1\n",
        "\n",
        "  ans = {}\n",
        "  for f in edge_nodes:\n",
        "    valid, nodes, indices = decode_path(G, f, best_individual.chromosome)\n",
        "    indices.append(7)\n",
        "    a = [i for i in nodes[:-1]]\n",
        "    b = [j for j in nodes[1:]]\n",
        "    path = [(i,j,k) for i,j,k in zip(a,b,indices)]\n",
        "    ans[f] = path\n",
        "  return [best_individual.objVal, ans, converge_iter, (end-start)]  "
      ]
    },
    {
      "cell_type": "code",
      "execution_count": null,
      "metadata": {
        "id": "KouA3dkS3E1F"
      },
      "outputs": [],
      "source": [
        "expected_ans = read_data(\"/content/gdrive/MyDrive/Networks/expected_ans.pkl\", False)"
      ]
    },
    {
      "cell_type": "code",
      "execution_count": null,
      "metadata": {
        "id": "GwdIqSsbel81"
      },
      "outputs": [],
      "source": [
        "route_optimality_ratio = {}\n",
        "near_route_optimality_ratio = {}\n",
        "route_failure_ratio = {}\n",
        "near_route_failure_ratio = {}\n",
        "results = {}\n",
        "percent_gap = {}\n",
        "iterations_to_converge = {}\n",
        "time_to_converge = {}\n",
        "invalid_tests = {}\n",
        "for N_DEVICES in num_of_nodes:\n",
        "  correct_solution = 0\n",
        "  nearly_correct = 0\n",
        "  total_tests = 0\n",
        "  invalid_graph = 0\n",
        "  results[N_DEVICES] = []\n",
        "  percent_gap[N_DEVICES] = []\n",
        "  iterations_to_converge[N_DEVICES] = []\n",
        "  time_to_converge[N_DEVICES] = []\n",
        "  for t in range(1,test_case_num+1):\n",
        "\n",
        "    #reading data\n",
        "    network_data = {}\n",
        "    G = read_data(f\"test_cases/num_nodes_{N_DEVICES}/test_{t}/graph.gml\",True)\n",
        "    network_data['tx_time'] = read_data(f\"test_cases/num_nodes_{N_DEVICES}/test_{t}/tx_time.txt\", False)\n",
        "    network_data['max_edge_data_rate'] = read_data(f\"test_cases/num_nodes_{N_DEVICES}/test_{t}/max_edge_data_rate.txt\",False)\n",
        "    network_data['cst'] = read_data(f\"test_cases/num_nodes_{N_DEVICES}/test_{t}/cst.txt\",False)\n",
        "    network_data['max_flow_delays'] = read_data(f\"test_cases/num_nodes_{N_DEVICES}/test_{t}/max_flow_delays.txt\",False)\n",
        "    network_data['edge_delays'] = read_data(f\"test_cases/num_nodes_{N_DEVICES}/test_{t}/edge_delays.txt\",False)\n",
        "    network_data['max_edge_delays'] = read_data(f\"test_cases/num_nodes_{N_DEVICES}/test_{t}/max_edge_delays.txt\",False)\n",
        "    network_data['data_rate'] = read_data(f\"test_cases/num_nodes_{N_DEVICES}/test_{t}/data_rate.txt\",False)\n",
        "    network_data['eh_time'] = read_data(f\"test_cases/num_nodes_{N_DEVICES}/test_{t}/eh_time.txt\",False)\n",
        "    network_data['init_res_energy'] = read_data(f\"test_cases/num_nodes_{N_DEVICES}/test_{t}/init_res_energy.txt\",False)\n",
        "    edge_nodes = read_data(f\"test_cases/num_nodes_{N_DEVICES}/test_{t}/edge_nodes.txt\",False)\n",
        "\n",
        "\n",
        "    #Get 2D coordinates of all the devices\n",
        "    coordinates = {i:G.nodes()[i]['pos'] for i in G.nodes}\n",
        "\n",
        "    #creating a list of bidirectional edges\n",
        "    edge_list = []\n",
        "    for u,v in G.edges:\n",
        "      edge_list.append((u,v))\n",
        "      edge_list.append((v,u))\n",
        "    if expected_ans[N_DEVICES][t] == -1:\n",
        "      invalid_graph = invalid_graph + 1\n",
        "      continue\n",
        "    optimal_cost, optimal_path, converge_iter, converge_time = Genetic_Algorithm(G, edge_nodes, network_data)\n",
        "    optimal_cost = round(optimal_cost, 2)\n",
        "    print(f\"num_nodes = {N_DEVICES}, test_case = {t}, actual_cost = {optimal_cost}, optimal_cost = {expected_ans[N_DEVICES][t]}\")\n",
        "\n",
        "    time_to_converge[N_DEVICES].append(converge_time)\n",
        "    iterations_to_converge[N_DEVICES].append(converge_iter)\n",
        "    results[N_DEVICES].append([optimal_cost,expected_ans[N_DEVICES][t]])\n",
        "    percent_gap[N_DEVICES].append(((optimal_cost-expected_ans[N_DEVICES][t])/expected_ans[N_DEVICES][t])*100)\n",
        "    total_tests = total_tests + 1\n",
        "    if ((optimal_cost-expected_ans[N_DEVICES][t])/expected_ans[N_DEVICES][t])*100 <= 4:\n",
        "      nearly_correct = nearly_correct + 1\n",
        "    if optimal_cost == expected_ans[N_DEVICES][t]:\n",
        "      correct_solution = correct_solution + 1\n",
        "  \n",
        "  #calculating route optimality ratio\n",
        "  if total_tests == 0:\n",
        "    continue\n",
        "  invalid_tests[N_DEVICES] = invalid_graph\n",
        "  route_optimality_ratio[N_DEVICES] = correct_solution/total_tests\n",
        "  route_failure_ratio[N_DEVICES] = (total_tests-correct_solution)/total_tests\n",
        "  near_route_optimality_ratio[N_DEVICES] = nearly_correct/total_tests\n",
        "  near_route_failure_ratio[N_DEVICES] = nearly_correct/total_tests\n",
        "  "
      ]
    },
    {
      "cell_type": "code",
      "execution_count": null,
      "metadata": {
        "id": "SVh95SEF3q1K"
      },
      "outputs": [],
      "source": [
        "#saving results\n",
        "def save_file(file_name, results):\n",
        "  with open(\"/content/gdrive/MyDrive/Networks/\" + file_name, 'wb') as file:\n",
        "    pickle.dump(results, file)\n",
        "    file.close"
      ]
    },
    {
      "cell_type": "code",
      "execution_count": null,
      "metadata": {
        "id": "Mnh88ClJ3rql"
      },
      "outputs": [],
      "source": [
        "save_file(\"GA_PX_route_optimality_ratio.pkl\", route_optimality_ratio)\n",
        "save_file(\"GA_PX_route_failure_ratio.pkl\", route_failure_ratio)\n",
        "save_file(\"GA_PX_results.pkl\", results)\n",
        "save_file(\"GA_PX_percent_gap.pkl\", percent_gap)\n",
        "save_file(\"GA_PX_iterations_to_converge.pkl\", iterations_to_converge)\n",
        "save_file(\"GA_PX_time_to_converge.pkl\", time_to_converge)"
      ]
    }
  ],
  "metadata": {
    "colab": {
      "provenance": []
    },
    "kernelspec": {
      "display_name": "Python 3",
      "name": "python3"
    },
    "language_info": {
      "name": "python"
    }
  },
  "nbformat": 4,
  "nbformat_minor": 0
}