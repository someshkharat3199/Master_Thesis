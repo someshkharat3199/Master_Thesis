{
  "cells": [
    {
      "cell_type": "code",
      "execution_count": null,
      "metadata": {
        "colab": {
          "base_uri": "https://localhost:8080/"
        },
        "id": "T3dh1PqAsLU5",
        "outputId": "8f1a35f9-aa56-42f4-9049-592f73d1220d"
      },
      "outputs": [
        {
          "data": {
            "text/plain": [
              "<gurobipy.Env, Parameter changes: WLSAccessID=(user-defined), WLSSecret=(user-defined), LicenseID=942593, OutputFlag=0>"
            ]
          },
          "execution_count": 1,
          "metadata": {},
          "output_type": "execute_result"
        }
      ],
      "source": [
        "!pip install gurobipy>=9.5.1\n",
        "from gurobipy import *\n",
        "e = Env(empty = True)\n",
        "e.setParam('WLSACCESSID', '')\n",
        "e.setParam('WLSSECRET','')\n",
        "e.setParam('LICENSEID',)\n",
        "e.start()"
      ]
    },
    {
      "cell_type": "code",
      "execution_count": null,
      "metadata": {
        "id": "yAZ0yzV2Mt7i"
      },
      "outputs": [],
      "source": [
        "import random\n",
        "import copy\n",
        "import networkx as nx\n",
        "import numpy as np\n",
        "import matplotlib.colors as mcolors\n",
        "import matplotlib.pyplot as plt\n",
        "from scipy.spatial import ConvexHull, convex_hull_plot_2d\n",
        "import math\n",
        "import pickle\n",
        "import os\n",
        "from datetime import datetime\n",
        "from google.colab import drive"
      ]
    },
    {
      "cell_type": "code",
      "execution_count": null,
      "metadata": {
        "colab": {
          "base_uri": "https://localhost:8080/"
        },
        "id": "QrKFPJWrhvrN",
        "outputId": "eb6201b9-1f2b-454f-e36d-eef60cfaa19a"
      },
      "outputs": [
        {
          "name": "stdout",
          "output_type": "stream",
          "text": [
            "Mounted at /content/gdrive\n"
          ]
        }
      ],
      "source": [
        "drive.mount('/content/gdrive')"
      ]
    },
    {
      "cell_type": "code",
      "execution_count": null,
      "metadata": {
        "id": "k9FaL06kMvx6"
      },
      "outputs": [],
      "source": [
        "random.seed(datetime.now().timestamp())"
      ]
    },
    {
      "cell_type": "code",
      "execution_count": null,
      "metadata": {
        "id": "pDmZzMulMw-z"
      },
      "outputs": [],
      "source": [
        "!unzip /content/gdrive/MyDrive/Networks/test_cases.zip -d /"
      ]
    },
    {
      "cell_type": "code",
      "execution_count": null,
      "metadata": {
        "id": "CHPxRWRBMyVy"
      },
      "outputs": [],
      "source": [
        "num_of_nodes = [20,25,30,35,40,45,50,55,60]\n",
        "test_case_num = 30\n",
        "\n",
        "#defining network parameters\n",
        "GATEWAY_ID = 0\n",
        "spread_factor = range(7,13)"
      ]
    },
    {
      "cell_type": "code",
      "execution_count": null,
      "metadata": {
        "id": "E4G2c0EaM2m5"
      },
      "outputs": [],
      "source": [
        "def read_data(path, isGraph):\n",
        "  if isGraph:\n",
        "    G = nx.read_gml(path,destringizer=int)\n",
        "    return G\n",
        "  with open(path,'rb') as file:\n",
        "    data = pickle.load(file)\n",
        "    file.close()\n",
        "    return data\n"
      ]
    },
    {
      "cell_type": "code",
      "execution_count": null,
      "metadata": {
        "id": "S0iFCTECpxa4"
      },
      "outputs": [],
      "source": [
        "def get_link_set(G,edge_nodes):\n",
        "  all_paths = {}\n",
        "  #get all possible paths to GATEWAY_ID for each flow\n",
        "  for source in edge_nodes:\n",
        "    all_paths[source] = []\n",
        "    paths = nx.all_simple_paths(G,source,GATEWAY_ID)\n",
        "    for path in paths:\n",
        "      prev = path[0]\n",
        "      path_edge_list = []\n",
        "      for node in path[1:]:\n",
        "        path_edge_list.append((prev,node))\n",
        "        prev = node\n",
        "      all_paths[source].append(path_edge_list)\n",
        "\n",
        "  #generate link sets for each flow\n",
        "  link_sets = {f : set([edge for path in all_paths[f] for edge in path]) for f in edge_nodes}\n",
        "  return link_sets"
      ]
    },
    {
      "cell_type": "code",
      "execution_count": null,
      "metadata": {
        "id": "NwqtT-LMwZ_5"
      },
      "outputs": [],
      "source": [
        "def gurobi_optimization(G, network_data, edge_nodes):\n",
        "  #creating a list of bidirectional edges\n",
        "  edge_list = []\n",
        "  for u,v in G.edges:\n",
        "    edge_list.append((u,v))\n",
        "    edge_list.append((v,u))\n",
        "\n",
        "  #get links sets for all the flows\n",
        "  # link_sets = get_link_set(G, edge_nodes)\n",
        "\n",
        "  N_DEVICES = len(G.nodes)\n",
        "\n",
        "  #Setting the problem variable\n",
        "  prob = Model(env = e)\n",
        "\n",
        "  #setting the decision variables\n",
        "\n",
        "  #y_f_i_j_k = f-flow (i,j) edge k spreading factor\n",
        "  y = {(f,i,j,k):prob.addVar(lb = 0, ub = 1, vtype = GRB.BINARY, name = f'y_{f}_{i}_{j}_{k}') for f in edge_nodes for i,j in edge_list for k in spread_factor}\n",
        "\n",
        "  #Defining the objective function\n",
        "  prob.setObjective(quicksum(network_data['cst'][f,i,j,k]*y[f,i,j,k] for f in edge_nodes for i,j in edge_list for k in spread_factor), GRB.MINIMIZE)\n",
        "\n",
        "  #adding flow conservation constraints\n",
        "  prob.addConstrs(quicksum(y[f,i,j,k]-y[f,j,i,k] for j in G.adj[i] for k in spread_factor) == 0 for i in range(N_DEVICES) for f in edge_nodes if i not in {f,GATEWAY_ID})\n",
        "  prob.addConstrs(quicksum(y[i,i,j,k]-y[i,j,i,k] for j in G.adj[i] for k in spread_factor) == 1 for i in edge_nodes)\n",
        "  prob.addConstrs(quicksum(y[f,GATEWAY_ID,i,k]-y[f,i,GATEWAY_ID,k] for i in G.adj[GATEWAY_ID] for k in spread_factor) == -1 for f in edge_nodes)\n",
        "\n",
        "  #adding link capacity constraints\n",
        "  prob.addConstrs(y[f,i,j,k]*network_data['data_rate'][f,i,j,k] <= network_data['max_edge_data_rate'][k] for f in edge_nodes for i,j in edge_list for k in spread_factor)\n",
        "\n",
        "\n",
        "  #adding delay constraints\n",
        "  # prob.addConstrs(quicksum((network_data['edge_delays'][f,i,j] + network_data['tx_time'][k] + network_data['eh_time'][i,k])*y[f,i,j,k] for i,j in link_sets[f] for k in spread_factor) <= network_data['max_flow_delays'][f] for f in edge_nodes)\n",
        "  prob.addConstrs(quicksum((network_data['edge_delays'][f,i,j] + network_data['tx_time'][k] + network_data['eh_time'][i,k])*y[f,i,j,k] for i,j in edge_list for k in spread_factor) <= network_data['max_flow_delays'][f] for f in edge_nodes)\n",
        "\n",
        "\n",
        "  # prob.computeIIS()\n",
        "  # prob.write(\"model.ilp\")\n",
        "\n",
        "  #solving the problem\n",
        "  prob.optimize();\n",
        "  # prob.write(\"out.lp\")\n",
        "  if prob.status not in (GRB.OPTIMAL, GRB.SUBOPTIMAL):\n",
        "    return [-1,{}]\n",
        "\n",
        "  optimal_cost = prob.objval\n",
        "  optimal_path = {f : [(i,j,k) for i,j in edge_list for k in spread_factor if prob.getVarByName(f\"y_{f}_{i}_{j}_{k}\").x == 1] for f in edge_nodes}\n",
        "\n",
        "  return [optimal_cost, optimal_path]"
      ]
    },
    {
      "cell_type": "code",
      "execution_count": null,
      "metadata": {
        "id": "K5XbKXU2pByE"
      },
      "outputs": [],
      "source": [
        "expected_ans = {}\n",
        "\n",
        "for N_DEVICES in num_of_nodes:\n",
        "  expected_ans[N_DEVICES] = {}\n",
        "  for t in range(1,test_case_num+1):\n",
        "\n",
        "    #reading data\n",
        "    network_data = {}\n",
        "    G = read_data(f\"test_cases/num_nodes_{N_DEVICES}/test_{t}/graph.gml\",True)\n",
        "    network_data['tx_time'] = read_data(f\"test_cases/num_nodes_{N_DEVICES}/test_{t}/tx_time.txt\", False)\n",
        "    network_data['max_edge_data_rate'] = read_data(f\"test_cases/num_nodes_{N_DEVICES}/test_{t}/max_edge_data_rate.txt\",False)\n",
        "    network_data['cst'] = read_data(f\"test_cases/num_nodes_{N_DEVICES}/test_{t}/cst.txt\",False)\n",
        "    network_data['max_flow_delays'] = read_data(f\"test_cases/num_nodes_{N_DEVICES}/test_{t}/max_flow_delays.txt\",False)\n",
        "    network_data['edge_delays'] = read_data(f\"test_cases/num_nodes_{N_DEVICES}/test_{t}/edge_delays.txt\",False)\n",
        "    network_data['max_edge_delays'] = read_data(f\"test_cases/num_nodes_{N_DEVICES}/test_{t}/max_edge_delays.txt\",False)\n",
        "    network_data['data_rate'] = read_data(f\"test_cases/num_nodes_{N_DEVICES}/test_{t}/data_rate.txt\",False)\n",
        "    network_data['eh_time'] = read_data(f\"test_cases/num_nodes_{N_DEVICES}/test_{t}/eh_time.txt\",False)\n",
        "    network_data['init_res_energy'] = read_data(f\"test_cases/num_nodes_{N_DEVICES}/test_{t}/init_res_energy.txt\",False)\n",
        "    edge_nodes = read_data(f\"test_cases/num_nodes_{N_DEVICES}/test_{t}/edge_nodes.txt\",False)\n",
        "\n",
        "    #get 2D coordinates of all the devices\n",
        "    coordinates = {i: G.nodes()[i]['pos'] for i in G.nodes}\n",
        "\n",
        "    # #visualizing the graph\n",
        "    # print(f\"Graph_{t+1}\")\n",
        "    # color_map = [\"blue\" for i in range(N_DEVICES)]\n",
        "    # color_map[GATEWAY_ID] = \"red\"\n",
        "    # plt.figure(figsize=(10,10))\n",
        "    # nx.draw_networkx(G, coordinates,node_size = 300, node_color=color_map, font_color = \"white\", with_labels = True)\n",
        "    # plt.show()\n",
        "\n",
        "    optimal_cost, optimal_path = gurobi_optimization(G, network_data, edge_nodes)\n",
        "    optimal_cost = round(optimal_cost, 2)\n",
        "    expected_ans[N_DEVICES][t] = optimal_cost\n",
        "    print(f\"num_nodes = {N_DEVICES}, test_no = {t}, optimal_cost = {optimal_cost}\")\n",
        "\n",
        "    # for f in edge_nodes:\n",
        "    #   print(optimal_path[f])\n",
        "\n",
        "    # #visualizing the solution\n",
        "    # flow_colors = dict(zip(edge_nodes,random.choices(list(mcolors.TABLEAU_COLORS),k = len(edge_nodes))))\n",
        "    # node_color = ['black' for node in G.nodes()]\n",
        "    # edge_color = ['black' for edge in G.edges()]\n",
        "    # width = [1 for edge in G.edges()]\n",
        "    # edge_labels = {}\n",
        "    # for f in edge_nodes:\n",
        "    #   for i,j,k in optimal_path[f]:\n",
        "    #     node_color[i] = flow_colors[f]\n",
        "    #     node_color[j] = flow_colors[f]\n",
        "    #     if i < j:\n",
        "    #       pos = list(G.edges()).index((i,j))\n",
        "    #       edge_color[pos] = flow_colors[f]\n",
        "    #       edge_labels[(i,j)] = f\"SF-{k}\"\n",
        "    #       width[pos] = 3\n",
        "    #     else:\n",
        "    #       pos = list(G.edges()).index((j,i))\n",
        "    #       edge_color[pos] = flow_colors[f]\n",
        "    #       edge_labels[(j,i)] = f\"SF-{k}\"\n",
        "    #       width[pos] = 3\n",
        "    # node_color[0] = \"red\"\n",
        "\n",
        "    # plt.figure(figsize=(10,10))\n",
        "    # nx.draw_networkx(G, coordinates,\n",
        "    #                 node_size = 350, \n",
        "    #                 node_color=node_color, \n",
        "    #                 width = width,\n",
        "    #                 edge_color = edge_color, \n",
        "    #                 font_color = \"white\", \n",
        "    #                 font_weight = \"bold\", \n",
        "    #                 font_size = 14,\n",
        "    #                 with_labels = True)\n",
        "    # nx.draw_networkx_edge_labels(G, coordinates, edge_labels=edge_labels)\n",
        "    # plt.show()"
      ]
    },
    {
      "cell_type": "code",
      "execution_count": null,
      "metadata": {
        "id": "RrU2gvX9LKne"
      },
      "outputs": [],
      "source": [
        "#save expected results in a file\n",
        "with open(\"/content/gdrive/MyDrive/Networks/expected_ans.pkl\",'wb') as file:\n",
        "  pickle.dump(expected_ans, file)\n",
        "  file.close()"
      ]
    }
  ],
  "metadata": {
    "accelerator": "GPU",
    "colab": {
      "provenance": []
    },
    "gpuClass": "standard",
    "kernelspec": {
      "display_name": "Python 3",
      "name": "python3"
    },
    "language_info": {
      "name": "python"
    }
  },
  "nbformat": 4,
  "nbformat_minor": 0
}
