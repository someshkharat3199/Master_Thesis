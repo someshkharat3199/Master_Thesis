{
  "nbformat": 4,
  "nbformat_minor": 0,
  "metadata": {
    "colab": {
      "provenance": []
    },
    "kernelspec": {
      "name": "python3",
      "display_name": "Python 3"
    },
    "language_info": {
      "name": "python"
    },
    "gpuClass": "standard"
  },
  "cells": [
    {
      "cell_type": "code",
      "source": [
        "import random\n",
        "import networkx as nx\n",
        "import matplotlib.pyplot as plt\n",
        "import math\n",
        "import pickle\n",
        "import os\n",
        "from datetime import datetime\n",
        "from google.colab import drive"
      ],
      "metadata": {
        "id": "tHLC14Fudgzk"
      },
      "execution_count": null,
      "outputs": []
    },
    {
      "cell_type": "code",
      "source": [
        "drive.mount('/content/gdrive')"
      ],
      "metadata": {
        "colab": {
          "base_uri": "https://localhost:8080/"
        },
        "id": "LTu_rGYxdO17",
        "outputId": "126e1701-ca20-4fc3-f1c3-b01ce00c1fa9"
      },
      "execution_count": null,
      "outputs": [
        {
          "output_type": "stream",
          "name": "stdout",
          "text": [
            "Mounted at /content/gdrive\n"
          ]
        }
      ]
    },
    {
      "cell_type": "code",
      "source": [
        "random.seed(datetime.now().timestamp())"
      ],
      "metadata": {
        "id": "EWNVxs-mde5z"
      },
      "execution_count": null,
      "outputs": []
    },
    {
      "cell_type": "code",
      "source": [
        "num_of_nodes = [20,25,30,35,40,45,50,55,60]\n",
        "test_case_num = 30\n",
        "\n",
        "#defining network parameters\n",
        "DEPLOY_AREA = (100,100) #sq.m\n",
        "GATEWAY_ID = 0\n",
        "TRANSMISSION_RANGE = 20 #m"
      ],
      "metadata": {
        "id": "bscM-6p2tbwA"
      },
      "execution_count": null,
      "outputs": []
    },
    {
      "cell_type": "code",
      "source": [
        "#Time on Air (ToA) is the amount of time that the transmitter antenna is energised and\n",
        "#transmitting data.\n",
        "#Note: ToA is not the time from Tx to Rx.\n",
        "\n",
        "#Duty cycle is the proportion of time during which a component, device, or system is\n",
        "# operated. The duty cycle can be expressed as a ratio or as a percentage.\n",
        "\n",
        "# ToA = T_packet = T_preamble(sec) + T_payload(sec)\n",
        "# T_preamble(sec) = (n_preamble + 4.25) T_s\n",
        "# T_s = symbol duration /sweep time (sec) = (2^sf)/BW\n",
        "# T_payload = T_s(8 + max(ceil((8PL-4SF+28+16CRC-20H)/4(SF-2DE)),(CR+4), 0))\n",
        "# PL(payload) in bytes\n",
        "\n",
        "\n",
        "#Defining LoRaWAN parameters\n",
        "\n",
        "#DEFAULT VALUES (EU-868 values)\n",
        "CRC = 1 \n",
        "H = 0 \n",
        "CR = 1\n",
        "DE = 0 #LowDataRateOptimize (disabled)\n",
        "BW = 250 #kHz\n",
        "n_preamble = 8 \n",
        "PL = 51 #bytes\n",
        "ALPHA = 0.4\n",
        "MIN_DATA_RATE = 100 #bps\n",
        "duty_cycle = 0.1 #10% duty cycle\n",
        "spread_factor = [7,8,9,10,11,12]\n",
        "\n",
        "#Semtech SX1262IMLTRT LoRa radio transceiver\n",
        "transmission_current = 4.3 #mA\n",
        "\n",
        "#CR2450 Lithium battery\n",
        "MAX_BATTERY_CAPACITY = 700 #mAh \n",
        "threshold_capacity = 0.5 #50%\n",
        "\n",
        "#P1110B – 915 MHz RF Powerharvester\n",
        "charge_current = 0.1*MAX_BATTERY_CAPACITY #mA"
      ],
      "metadata": {
        "id": "LaYhYsXzgMJd"
      },
      "execution_count": null,
      "outputs": []
    },
    {
      "cell_type": "code",
      "source": [
        "#return time on air (millisec) for given spreaing factor\n",
        "def time_on_air(SF):\n",
        "  return ((n_preamble + 4.25) + (8 + max(math.ceil((8*PL - 4*SF + 28 + 16*CRC - 20*H)/(4*(SF-2*DE)))*(CR+4), 0)))*((2**SF)/BW)\n",
        "\n",
        "#return sleep time in hours.\n",
        "def sleep_time(SF):\n",
        "  return (1-duty_cycle)*(time_on_air(SF)/(3600 * 1000))\n",
        "\n",
        "#returns charging time in hours.\n",
        "def charging_time(res_energy):\n",
        "  return ((threshold_capacity*MAX_BATTERY_CAPACITY)-res_energy)/charge_current\n",
        "\n",
        "def dist(a,b):\n",
        "  x1,y1 = a\n",
        "  x2,y2 = b\n",
        "  return math.sqrt((x2-x1)**2+(y2-y1)**2)\n",
        "\n",
        "#return transmission time in hours\n",
        "tx_time = {k: duty_cycle*time_on_air(k)/(3600 * 1000) for k in spread_factor}\n",
        "\n",
        "# return maximum edge datarate in bits/sec\n",
        "max_edge_data_rate = {k: int(k*(BW/2**k)*(4/(4+CR))*1000) for k in spread_factor}\n",
        "\n",
        "#maximum sleep time in hours\n",
        "max_sleep_time = max([sleep_time(k) for k in spread_factor])\n",
        "\n",
        "#maximum charging time in hours\n",
        "max_charging_time = ((threshold_capacity*MAX_BATTERY_CAPACITY)-0.2*MAX_BATTERY_CAPACITY)/charge_current\n",
        "\n",
        "#maximum transmission time in hours\n",
        "max_tx_time = max([tx_time[k] for k in spread_factor])"
      ],
      "metadata": {
        "id": "P0vI5Cr0ggLW"
      },
      "execution_count": null,
      "outputs": []
    },
    {
      "cell_type": "code",
      "source": [
        "def get_all_paths(G, edge_nodes):\n",
        "  all_paths = {}\n",
        "  for source in edge_nodes:\n",
        "      all_paths[source] = []\n",
        "      paths = nx.all_simple_paths(G,source,GATEWAY_ID)\n",
        "      for path in paths:\n",
        "        prev = path[0]\n",
        "        path_edge_list = []\n",
        "        for node in path[1:]:\n",
        "          path_edge_list.append((prev,node))\n",
        "          prev = node\n",
        "        all_paths[source].append(path_edge_list)"
      ],
      "metadata": {
        "id": "stzzu6-IxqhF"
      },
      "execution_count": null,
      "outputs": []
    },
    {
      "cell_type": "code",
      "source": [
        "def save_test_case(path, file_name, data, isGraph):\n",
        "  if not os.path.exists(path):\n",
        "    os.makedirs(path)\n",
        "  if isGraph:\n",
        "    #write adj list to a file\n",
        "    nx.write_gml(data, path + \"/\" + file_name)\n",
        "  else:\n",
        "    with open(path + \"/\" + file_name,'wb') as file:\n",
        "      pickle.dump(data, file)\n",
        "      file.close()\n",
        "  "
      ],
      "metadata": {
        "id": "IRccQROrgnL2"
      },
      "execution_count": null,
      "outputs": []
    },
    {
      "cell_type": "code",
      "source": [
        "\n",
        "for N_DEVICES in num_of_nodes:\n",
        "  for t in range(test_case_num):\n",
        "  \n",
        "    #create graph object\n",
        "    G = nx.Graph()\n",
        "    connected = False\n",
        "    positions = {} #adding gateway position\n",
        "\n",
        "    while len(G.nodes) != N_DEVICES or not connected:\n",
        "      positions_set = set({})\n",
        "      positions = {}\n",
        "      for i in range(N_DEVICES):\n",
        "        if i == GATEWAY_ID:\n",
        "          continue\n",
        "        (x,y) = (random.randint(-DEPLOY_AREA[0]//2, DEPLOY_AREA[0]//2),random.randint(-DEPLOY_AREA[0]//2, DEPLOY_AREA[0]//2))\n",
        "        while (x,y) in positions_set:\n",
        "          (x,y) = (random.randint(-DEPLOY_AREA[0]//2, DEPLOY_AREA[0]//2),random.randint(-DEPLOY_AREA[0]//2, DEPLOY_AREA[0]//2))\n",
        "        positions_set.add((x,y))\n",
        "        positions[i] = (x,y)\n",
        "\n",
        "      positions[GATEWAY_ID] = (0,0)  #Gateway node has id 0\n",
        "      G = nx.random_geometric_graph(N_DEVICES, TRANSMISSION_RANGE, pos = positions)\n",
        "      connected = nx.is_connected(G)\n",
        "\n",
        "    #Get the end devices\n",
        "    import numpy as np\n",
        "    from scipy.spatial import ConvexHull, convex_hull_plot_2d\n",
        "    points = []\n",
        "    for k in range(N_DEVICES):\n",
        "      points.append(positions[k])\n",
        "    edge_nodes = list(ConvexHull(points).vertices)\n",
        "    convex_hull = np.array([positions[i] for i in edge_nodes])\n",
        "\n",
        "    #define initial residual energy for each device\n",
        "    init_res_energy = [random.randint(0.2*MAX_BATTERY_CAPACITY, MAX_BATTERY_CAPACITY) for i in range(N_DEVICES)]\n",
        "\n",
        "    #LoRa Transmission Parameter Selection (paper): Transmission power range of lora devices is 2dBm to 20dBm\n",
        "    #Assign the initial transmission power(dBm) for all the devices\n",
        "    tx_pwr = [random.randint(2,20) for i in range(N_DEVICES)]\n",
        "\n",
        "    #Assign the energy harvesting time (in hrs) for all the devices.\n",
        "    eh_time = {(u,k) : max(sleep_time(k), charging_time(init_res_energy[u])) for u in range(N_DEVICES) for k in spread_factor}\n",
        "\n",
        "    #get the updated residual energy of all the EH-devices\n",
        "    res_eg = {(u,k): init_res_energy[u] + charge_current*eh_time[u,k] for u in range(N_DEVICES) for k in spread_factor}\n",
        "\n",
        "\n",
        "    #creating a list of bidirectional edges\n",
        "    edge_list = []\n",
        "    for u,v in G.edges:\n",
        "      edge_list.append((u,v))\n",
        "      edge_list.append((v,u))\n",
        "\n",
        "    #Assign data rate for each edge in bits/sec\n",
        "    data_rate = {(i,u,v,k): random.randint(MIN_DATA_RATE, max_edge_data_rate[k]) for i in edge_nodes for u,v in edge_list for k in spread_factor}\n",
        "\n",
        "    #calculate max edge delay: max_tx_delay + eh_time + 2*(dist/speed) hours\n",
        "    speed = 3 * (10**8) #m/s\n",
        "    max_edge_delays = {(u,v): max_tx_time + max(max_sleep_time, max_charging_time) + 2*(dist(positions[u],positions[v])/speed)/3600\n",
        "                   for u,v in edge_list}\n",
        "\n",
        "    #assign delay (propagation) in hrs for each edge in hours\n",
        "    edge_delays = {(i,u,v): random.uniform((dist(positions[u],positions[v])/speed)/3600, 2*(dist(positions[u],positions[v])/speed)/3600) for i in edge_nodes for u,v in edge_list}\n",
        "\n",
        "    #get all possible path to the gateway for each flow\n",
        "    # all_paths = get_all_paths(G, edge_nodes)\n",
        "    \n",
        "    #calculate max delays for each flow in hours\n",
        "    max_flow_delays = {}\n",
        "    for i in edge_nodes:\n",
        "      # path_lengths = [len(path) for path in all_paths[i]]\n",
        "      # avg_path_len = sum(path_lengths)/len(path_lengths)\n",
        "      # max_flow_delays[i] = (max(max_edge_delays.values()))*avg_path_len\n",
        "      max_flow_delays[i] = (max(max_edge_delays.values()))*int(N_DEVICES/3)\n",
        "\n",
        "    cst = {(i,u,v,k): ALPHA*((edge_delays[i,u,v] + tx_time[k] + eh_time[u,k])/max_edge_delays[u,v]) + (1-ALPHA)*((init_res_energy[u]-transmission_current*tx_time[k]+charge_current*eh_time[u,k])/MAX_BATTERY_CAPACITY)\n",
        "      for i in edge_nodes for u,v in edge_list for k in spread_factor}\n",
        "\n",
        "    print(f\"num_nodes = {N_DEVICES} graph-{t+1}\")\n",
        "\n",
        "    # #visualizing the graph\n",
        "    # color_map = [\"blue\" for i in range(N_DEVICES)]\n",
        "    # color_map[GATEWAY_ID] = \"red\"\n",
        "    # plt.figure(figsize=(10,10))\n",
        "    # nx.draw_networkx(G, positions,node_size = 300, node_color=color_map, font_color = \"white\", with_labels = True)\n",
        "    # plt.show()\n",
        "\n",
        "    #save graph data to file\n",
        "    save_test_case(f'test_cases/num_nodes_{N_DEVICES}/test_{t+1}', \"graph.gml\", G, True)\n",
        "    \n",
        "\n",
        "    #writing tx_time to a file\n",
        "    save_test_case(f'test_cases/num_nodes_{N_DEVICES}/test_{t+1}', \"tx_time.txt\", tx_time, False)\n",
        "\n",
        "    #writing max_edge_data_rate to a file\n",
        "    save_test_case(f'test_cases/num_nodes_{N_DEVICES}/test_{t+1}', \"max_edge_data_rate.txt\", max_edge_data_rate, False)\n",
        "\n",
        "    #writing cost data to a file\n",
        "    save_test_case(f'test_cases/num_nodes_{N_DEVICES}/test_{t+1}', \"cst.txt\", cst, False)\n",
        "\n",
        "    #writing max_flow_delay data to file\n",
        "    save_test_case(f'test_cases/num_nodes_{N_DEVICES}/test_{t+1}', \"max_flow_delays.txt\", max_flow_delays, False)\n",
        "\n",
        "    #writing edge_delays data to file\n",
        "    save_test_case(f'test_cases/num_nodes_{N_DEVICES}/test_{t+1}', \"edge_delays.txt\", edge_delays, False)\n",
        "\n",
        "    #writing max_edge delay data to file\n",
        "    save_test_case(f'test_cases/num_nodes_{N_DEVICES}/test_{t+1}', \"max_edge_delays.txt\", max_edge_delays, False)\n",
        "\n",
        "    #writing edge datarate data to file\n",
        "    save_test_case(f'test_cases/num_nodes_{N_DEVICES}/test_{t+1}', \"data_rate.txt\", data_rate, False)\n",
        "\n",
        "    #writing eh time to file\n",
        "    save_test_case(f'test_cases/num_nodes_{N_DEVICES}/test_{t+1}', \"eh_time.txt\", eh_time, False)\n",
        "\n",
        "    #writing initial residual energy data to file\n",
        "    save_test_case(f'test_cases/num_nodes_{N_DEVICES}/test_{t+1}', \"init_res_energy.txt\", init_res_energy, False) \n",
        "\n",
        "    #writing edge nodes data to file\n",
        "    save_test_case(f'test_cases/num_nodes_{N_DEVICES}/test_{t+1}', \"edge_nodes.txt\", edge_nodes, False) "
      ],
      "metadata": {
        "id": "yrxFUsS2b5Wp"
      },
      "execution_count": null,
      "outputs": []
    },
    {
      "cell_type": "code",
      "source": [
        "!zip -r /content/gdrive/MyDrive/Networks/test_cases.zip /content/test_cases"
      ],
      "metadata": {
        "id": "edClQNuGBA2w"
      },
      "execution_count": null,
      "outputs": []
    }
  ]
}